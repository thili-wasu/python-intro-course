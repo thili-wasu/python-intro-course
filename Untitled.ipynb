{
 "cells": [
  {
   "cell_type": "code",
   "execution_count": 3,
   "id": "669605c3-863e-4114-8324-ba90094c3cfe",
   "metadata": {},
   "outputs": [],
   "source": [
    "import pandas as pd\n",
    "import numpy as np\n",
    "import matplotlib.pyplot as plt\n",
    "from datetime import datetime\n",
    "import re\n",
    "import glob"
   ]
  },
  {
   "cell_type": "code",
   "execution_count": 21,
   "id": "a9c1046e-5a84-4c4e-a9a3-18e9d53980db",
   "metadata": {},
   "outputs": [
    {
     "ename": "NameError",
     "evalue": "name 'filename1' is not defined",
     "output_type": "error",
     "traceback": [
      "\u001b[0;31m---------------------------------------------------------------------------\u001b[0m",
      "\u001b[0;31mNameError\u001b[0m                                 Traceback (most recent call last)",
      "Cell \u001b[0;32mIn[21], line 43\u001b[0m\n\u001b[1;32m     37\u001b[0m filenames \u001b[38;5;241m=\u001b[39m [\n\u001b[1;32m     38\u001b[0m     \u001b[38;5;124m'\u001b[39m\u001b[38;5;124m/data/IMFSE/PythonCourse/PontdeVilomara/WeatherStations/wx_20220716_CastellouDeBages.csv\u001b[39m\u001b[38;5;124m'\u001b[39m, \n\u001b[1;32m     39\u001b[0m     \u001b[38;5;124m'\u001b[39m\u001b[38;5;124m/data/IMFSE/PythonCourse/PontdeVilomara/WeatherStations/wx_20220717_CastellouDeBages.csv\u001b[39m\u001b[38;5;124m'\u001b[39m,\n\u001b[1;32m     40\u001b[0m     \n\u001b[1;32m     41\u001b[0m ]\n\u001b[1;32m     42\u001b[0m \u001b[38;5;66;03m# Create instances for each file\u001b[39;00m\n\u001b[0;32m---> 43\u001b[0m pdVWs1 \u001b[38;5;241m=\u001b[39m PontdeVilomara(\u001b[43mfilename1\u001b[49m)\n\u001b[1;32m     44\u001b[0m pdVWs2 \u001b[38;5;241m=\u001b[39m PontdeVilomara(filename2)\n\u001b[1;32m     46\u001b[0m \u001b[38;5;66;03m# Concatenate DataFrames from both instances\u001b[39;00m\n",
      "\u001b[0;31mNameError\u001b[0m: name 'filename1' is not defined"
     ]
    }
   ],
   "source": []
  },
  {
   "cell_type": "code",
   "execution_count": 20,
   "id": "bb9c571a-f2b2-4584-8109-65f879fc0179",
   "metadata": {},
   "outputs": [
    {
     "ename": "AttributeError",
     "evalue": "'DataFrame' object has no attribute 'lat'",
     "output_type": "error",
     "traceback": [
      "\u001b[0;31m---------------------------------------------------------------------------\u001b[0m",
      "\u001b[0;31mAttributeError\u001b[0m                            Traceback (most recent call last)",
      "\u001b[0;32m/var/tmp/ipykernel_341320/3681441492.py\u001b[0m in \u001b[0;36m?\u001b[0;34m()\u001b[0m\n\u001b[1;32m      8\u001b[0m     \u001b[0mpdVWs_\u001b[0m \u001b[0;34m=\u001b[0m \u001b[0mPontdeVilomara\u001b[0m\u001b[0;34m(\u001b[0m\u001b[0mfilename\u001b[0m\u001b[0;34m)\u001b[0m\u001b[0;34m\u001b[0m\u001b[0;34m\u001b[0m\u001b[0m\n\u001b[1;32m      9\u001b[0m     \u001b[0mlat\u001b[0m\u001b[0;34m,\u001b[0m \u001b[0mlon\u001b[0m \u001b[0;34m=\u001b[0m \u001b[0mpdVWs_\u001b[0m\u001b[0;34m.\u001b[0m\u001b[0mlat\u001b[0m\u001b[0;34m,\u001b[0m \u001b[0mpdVWs_\u001b[0m\u001b[0;34m.\u001b[0m\u001b[0mlon\u001b[0m\u001b[0;34m\u001b[0m\u001b[0;34m\u001b[0m\u001b[0m\n\u001b[1;32m     10\u001b[0m     \u001b[0mpdVWs\u001b[0m\u001b[0;34m.\u001b[0m\u001b[0mappend\u001b[0m\u001b[0;34m(\u001b[0m\u001b[0mpdVWs_\u001b[0m\u001b[0;34m.\u001b[0m\u001b[0mdf\u001b[0m\u001b[0;34m)\u001b[0m\u001b[0;34m\u001b[0m\u001b[0;34m\u001b[0m\u001b[0m\n\u001b[1;32m     11\u001b[0m \u001b[0;34m\u001b[0m\u001b[0m\n\u001b[0;32m---> 12\u001b[0;31m \u001b[0mprint\u001b[0m\u001b[0;34m(\u001b[0m\u001b[0mpdVWs\u001b[0m\u001b[0;34m[\u001b[0m\u001b[0;36m0\u001b[0m\u001b[0;34m]\u001b[0m\u001b[0;34m.\u001b[0m\u001b[0mlat\u001b[0m\u001b[0;34m)\u001b[0m\u001b[0;34m\u001b[0m\u001b[0;34m\u001b[0m\u001b[0m\n\u001b[0m\u001b[1;32m     13\u001b[0m \u001b[0;31m# Concatenate DataFrames from both instances\u001b[0m\u001b[0;34m\u001b[0m\u001b[0;34m\u001b[0m\u001b[0m\n\u001b[1;32m     14\u001b[0m \u001b[0mconcatenated_df\u001b[0m \u001b[0;34m=\u001b[0m \u001b[0mpd\u001b[0m\u001b[0;34m.\u001b[0m\u001b[0mconcat\u001b[0m\u001b[0;34m(\u001b[0m\u001b[0mpdVWs\u001b[0m\u001b[0;34m)\u001b[0m\u001b[0;34m\u001b[0m\u001b[0;34m\u001b[0m\u001b[0m\n\u001b[1;32m     15\u001b[0m \u001b[0;34m\u001b[0m\u001b[0m\n",
      "\u001b[0;32m/opt/imfse/lib/python3.11/site-packages/pandas/core/generic.py\u001b[0m in \u001b[0;36m?\u001b[0;34m(self, name)\u001b[0m\n\u001b[1;32m   6295\u001b[0m             \u001b[0;32mand\u001b[0m \u001b[0mname\u001b[0m \u001b[0;32mnot\u001b[0m \u001b[0;32min\u001b[0m \u001b[0mself\u001b[0m\u001b[0;34m.\u001b[0m\u001b[0m_accessors\u001b[0m\u001b[0;34m\u001b[0m\u001b[0;34m\u001b[0m\u001b[0m\n\u001b[1;32m   6296\u001b[0m             \u001b[0;32mand\u001b[0m \u001b[0mself\u001b[0m\u001b[0;34m.\u001b[0m\u001b[0m_info_axis\u001b[0m\u001b[0;34m.\u001b[0m\u001b[0m_can_hold_identifiers_and_holds_name\u001b[0m\u001b[0;34m(\u001b[0m\u001b[0mname\u001b[0m\u001b[0;34m)\u001b[0m\u001b[0;34m\u001b[0m\u001b[0;34m\u001b[0m\u001b[0m\n\u001b[1;32m   6297\u001b[0m         ):\n\u001b[1;32m   6298\u001b[0m             \u001b[0;32mreturn\u001b[0m \u001b[0mself\u001b[0m\u001b[0;34m[\u001b[0m\u001b[0mname\u001b[0m\u001b[0;34m]\u001b[0m\u001b[0;34m\u001b[0m\u001b[0;34m\u001b[0m\u001b[0m\n\u001b[0;32m-> 6299\u001b[0;31m         \u001b[0;32mreturn\u001b[0m \u001b[0mobject\u001b[0m\u001b[0;34m.\u001b[0m\u001b[0m__getattribute__\u001b[0m\u001b[0;34m(\u001b[0m\u001b[0mself\u001b[0m\u001b[0;34m,\u001b[0m \u001b[0mname\u001b[0m\u001b[0;34m)\u001b[0m\u001b[0;34m\u001b[0m\u001b[0;34m\u001b[0m\u001b[0m\n\u001b[0m",
      "\u001b[0;31mAttributeError\u001b[0m: 'DataFrame' object has no attribute 'lat'"
     ]
    }
   ],
   "source": [
    "stationame = 'CastellouDeBages'\n",
    "\n",
    "filenames = sorted(glob.glob( '/data/IMFSE/PythonCourse/PontdeVilomara/WeatherStations/wx*{:s}.csv'.format(stationame)))\n",
    "\n",
    "# Create instances for each file\n",
    "pdVWs = []\n",
    "for filename in filenames:\n",
    "    pdVWs_ = PontdeVilomara(filename)\n",
    "    lat, lon = pdVWs_.lat, pdVWs_.lon\n",
    "    pdVWs.append(pdVWs_.df)\n",
    "\n",
    "print(pdVWs[0].lat)\n",
    "# Concatenate DataFrames from both instances\n",
    "concatenated_df = pd.concat(pdVWs)\n",
    "\n",
    "# Display the concatenated DataFrame\n",
    "print(concatenated_df)"
   ]
  },
  {
   "cell_type": "code",
   "execution_count": 17,
   "id": "3565027f-64f5-4d3c-968d-f5b31ff3b9af",
   "metadata": {
    "scrolled": true
   },
   "outputs": [
    {
     "ename": "AttributeError",
     "evalue": "'PontdeVilomara' object has no attribute 'lat'",
     "output_type": "error",
     "traceback": [
      "\u001b[0;31m---------------------------------------------------------------------------\u001b[0m",
      "\u001b[0;31mAttributeError\u001b[0m                            Traceback (most recent call last)",
      "Cell \u001b[0;32mIn[17], line 10\u001b[0m\n\u001b[1;32m      8\u001b[0m \u001b[38;5;28;01mfor\u001b[39;00m filename \u001b[38;5;129;01min\u001b[39;00m filenames:\n\u001b[1;32m      9\u001b[0m     pdVWs_ \u001b[38;5;241m=\u001b[39m PontdeVilomara(filename)\n\u001b[0;32m---> 10\u001b[0m     lat, lon \u001b[38;5;241m=\u001b[39m \u001b[43mpdVWs_\u001b[49m\u001b[38;5;241;43m.\u001b[39;49m\u001b[43mlat\u001b[49m, pdVWs_\u001b[38;5;241m.\u001b[39mlon\n\u001b[1;32m     11\u001b[0m     pdVWs\u001b[38;5;241m.\u001b[39mappend(pdVWs_\u001b[38;5;241m.\u001b[39mdf)\n\u001b[1;32m     13\u001b[0m \u001b[38;5;28mprint\u001b[39m(pdVWs[\u001b[38;5;241m0\u001b[39m]\u001b[38;5;241m.\u001b[39mlat)\n",
      "\u001b[0;31mAttributeError\u001b[0m: 'PontdeVilomara' object has no attribute 'lat'"
     ]
    }
   ],
   "source": [
    "# Example usage\n",
    "stationame = 'CastellouDeBages'\n",
    "\n",
    "filenames = sorted(glob.glob( '/data/IMFSE/PythonCourse/PontdeVilomara/WeatherStations/wx*{:s}.csv'.format(stationame)))\n",
    "\n",
    "# Create instances for each file\n",
    "pdVWs = []\n",
    "for filename in filenames:\n",
    "    pdVWs_ = PontdeVilomara(filename)\n",
    "    lat, lon = pdVWs_.lat, pdVWs_.lon\n",
    "    pdVWs.append(pdVWs_.df)\n",
    "\n",
    "print(pdVWs[0].lat)\n",
    "# Concatenate DataFrames from both instances\n",
    "concatenated_df = pd.concat(pdVWs)\n",
    "\n",
    "# Display the concatenated DataFrame\n",
    "print(concatenated_df)"
   ]
  },
  {
   "cell_type": "code",
   "execution_count": null,
   "id": "538d6080-79bf-4406-bd91-7fbde899200c",
   "metadata": {},
   "outputs": [],
   "source": []
  },
  {
   "cell_type": "code",
   "execution_count": null,
   "id": "e6ef606b-ea01-4bdf-9540-56f2d22aab07",
   "metadata": {},
   "outputs": [],
   "source": [
    "import pandas as pd\n",
    "from datetime import datetime\n",
    "import glob\n",
    "\n",
    "class PontdeVilomara:\n",
    "    def __init__(self, filename):\n",
    "        self.df = self._load_file(filename)\n",
    "    \n",
    "    def _load_file(self, filename):\n",
    "        df = pd.read_csv(filename, delimiter='\\t', header=2)\n",
    "        \n",
    "        with open(filename, 'r') as file:\n",
    "            file.readline()  # Skip the first line\n",
    "            second_line = file.readline().strip()\n",
    "        data = second_line.split(' ')\n",
    "        date = data[1]\n",
    "        date_string = str(date)\n",
    "        date_object = datetime.strptime(date_string, '%Y%m%d')\n",
    "        date_only = date_object.date()\n",
    "        \n",
    "        def convert_time_range_to_datetimes(time_range_str, date_str=date_only):\n",
    "            start_time_str, end_time_str = time_range_str.split(' - ')\n",
    "            start_datetime = datetime.strptime(f'{date_str} {start_time_str}', '%Y-%m-%d %H:%M')\n",
    "            return pd.Series([start_datetime])\n",
    "        \n",
    "        df[['date']] = df['Periode[UTM]'].apply(lambda x: pd.Series(convert_time_range_to_datetimes(x)))\n",
    "        df.drop(columns=['Periode[UTM]'], inplace=True)\n",
    "        \n",
    "        return df\n",
    "\n",
    "    def display_data(self):\n",
    "        print(self.df)\n",
    "\n",
    "# Example usage\n",
    "stationame = 'CastellouDeBages'\n",
    "\n",
    "# Use glob to get all matching filenames\n",
    "import glob\n",
    "filenames = sorted(glob.glob(f'/data/IMFSE/PythonCourse/PontdeVilomara/WeatherStations/wx*{stationame}.csv'))\n",
    "\n",
    "# Create instances for each file and collect DataFrames\n",
    "pdVWs = []\n",
    "for filename in filenames:\n",
    "    pdVWs_ = PontdeVilomara(filename)\n",
    "    pdVWs.append(pdVWs_.df)\n",
    "\n",
    "# Concatenate DataFrames from all instances\n",
    "concatenated_df = pd.concat(pdVWs, ignore_index=True)\n",
    "\n",
    "# Display the concatenated DataFrame\n",
    "print(concatenated_df)\n"
   ]
  },
  {
   "cell_type": "code",
   "execution_count": null,
   "id": "e9320209-494c-4df2-9b7e-f3f92c3dad8d",
   "metadata": {},
   "outputs": [],
   "source": [
    "class WeatherStation:\n",
    "    def __init__(self, data):\n",
    "        lat_lon = data[6]\n",
    "        data2 = lat_lon.split(',')\n",
    "        self.lat = data2[0]\n",
    "        self.lon = data2[1]\n",
    "\n",
    "    def get_lat(self):\n",
    "        return self.lat\n",
    "\n",
    "    def get_lon(self):\n",
    "        return self.lon\n",
    "\n",
    "# Create an instance of the class\n",
    "data = ['...', '...', '...', '...', '...', '...', '40.7128,-74.0060']\n",
    "station = PontdeVilomara(filename)\n",
    "\n",
    "# Access the latitude and longitude directly\n",
    "latitude = station.lat\n",
    "longitude = station.lon\n",
    "\n",
    "print(f\"Latitude: {latitude}, Longitude: {longitude}\")\n",
    "\n"
   ]
  }
 ],
 "metadata": {
  "kernelspec": {
   "display_name": "Python 3 (ipykernel)",
   "language": "python",
   "name": "python3"
  },
  "language_info": {
   "codemirror_mode": {
    "name": "ipython",
    "version": 3
   },
   "file_extension": ".py",
   "mimetype": "text/x-python",
   "name": "python",
   "nbconvert_exporter": "python",
   "pygments_lexer": "ipython3",
   "version": "3.11.2"
  }
 },
 "nbformat": 4,
 "nbformat_minor": 5
}
