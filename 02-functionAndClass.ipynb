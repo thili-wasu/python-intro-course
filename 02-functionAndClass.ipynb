{
 "cells": [
  {
   "cell_type": "markdown",
   "id": "7af8dbd2-5dfa-44c8-ad3f-c09673b67b76",
   "metadata": {},
   "source": [
    "![logo](Data/logo.png)"
   ]
  },
  {
   "cell_type": "markdown",
   "id": "edcedfc5-9584-4914-b3d0-006175f69f17",
   "metadata": {},
   "source": [
    "# Working with Function"
   ]
  },
  {
   "cell_type": "markdown",
   "id": "b5648898-6023-4232-9aec-5f22da27da59",
   "metadata": {},
   "source": [
    "A function is a block of code which only runs when it is called.\n",
    "You can pass data, known as parameters, into a function.\n",
    "A function can return data as a result."
   ]
  },
  {
   "cell_type": "code",
   "execution_count": 1,
   "id": "abea0258-e446-49cc-9962-4ad1bfe6dd3f",
   "metadata": {},
   "outputs": [
    {
     "name": "stdout",
     "output_type": "stream",
     "text": [
      "4\n"
     ]
    }
   ],
   "source": [
    "def MyFunction(x):\n",
    "    return 2*x\n",
    "\n",
    "print(MyFunction(2))"
   ]
  },
  {
   "cell_type": "markdown",
   "id": "f5215dea-fcc0-40bc-a2d0-3d005afcd4cf",
   "metadata": {},
   "source": [
    "function can also be defined with a `one line` format using the `lambda` formulation"
   ]
  },
  {
   "cell_type": "code",
   "execution_count": 2,
   "id": "0c012d0b-a482-474b-b9ed-9ff5b3c64bb2",
   "metadata": {},
   "outputs": [
    {
     "name": "stdout",
     "output_type": "stream",
     "text": [
      "13\n"
     ]
    }
   ],
   "source": [
    "MyFunction = lambda x, y, z : x + y + z\n",
    "print(MyFunction(5, 6, 2)) "
   ]
  },
  {
   "cell_type": "markdown",
   "id": "81b25472-a50a-4e48-a1eb-f7ac571721a0",
   "metadata": {},
   "source": [
    "# Working with Class"
   ]
  },
  {
   "cell_type": "markdown",
   "id": "ac26a157-afc0-446b-b483-c0a83a4ede5f",
   "metadata": {},
   "source": [
    "Classes provide a means of bundling data and functionality together. Creating a new class creates a new type of object, allowing new instances of that type to be made. Each class instance can have attributes attached to it for maintaining its state. Class instances can also have function (defined by its class) for modifying its state. see [here](https://docs.python.org/3/tutorial/classes.html) for more details"
   ]
  },
  {
   "cell_type": "markdown",
   "id": "49ab7453-d2ff-41d1-ad99-e4c08c2cae78",
   "metadata": {},
   "source": [
    "example of a class named person that has 2 states variables `name` and `age` and a method that can print both variables.\n",
    "\n",
    "The `__init__` function is used to defined the state variable of the class instance.\n",
    "The `self` parameter is a reference to the current instance of the class, and is used to access variables that belongs to the class."
   ]
  },
  {
   "cell_type": "code",
   "execution_count": 3,
   "id": "1e73a4ca-f569-4b0d-b2eb-fbcc467fae0a",
   "metadata": {},
   "outputs": [
    {
     "name": "stdout",
     "output_type": "stream",
     "text": [
      "Hello my name is John. I am 36 years old\n",
      "Hello my name is John. I am 38 years old\n"
     ]
    }
   ],
   "source": [
    "class Person:\n",
    "  def __init__(self, name, age):\n",
    "    self.name = name\n",
    "    self.age = age\n",
    "\n",
    "  def sayHello(self):\n",
    "    print('Hello my name is {:s}. I am {:d} years old'.format(self.name, self.age))\n",
    "      \n",
    "  def incrAge(self,incr):\n",
    "        self.age += incr\n",
    "      \n",
    "\n",
    "p1 = Person(\"John\", 36)\n",
    "p1.sayHello()\n",
    "p1.incrAge(2)\n",
    "p1.sayHello()\n"
   ]
  },
  {
   "cell_type": "code",
   "execution_count": null,
   "id": "59958eab-6085-47ca-b4b1-eff5731e66f7",
   "metadata": {},
   "outputs": [],
   "source": []
  },
  {
   "cell_type": "markdown",
   "id": "e968b962-ca3d-4ae9-80eb-0898216dcdd0",
   "metadata": {},
   "source": [
    "Another example showing how you can use class to load data. We want here to create a class that can load weather station data stored in `/data/IMFSE/PythonCourse/WeatherStation/SPE00156000.csv` \n",
    "data is coming from [here](https://www.ncei.noaa.gov/access/search/data-search/daily-summaries?stations=SPE00156000&pageNum=1), the weather staion is located in the  university area of Barcelona, where is UPC campus North."
   ]
  },
  {
   "cell_type": "code",
   "execution_count": 4,
   "id": "f8b41726-138b-45e4-bdce-76516c4a16eb",
   "metadata": {},
   "outputs": [],
   "source": [
    "import pandas as pd\n",
    "import numpy as np \n",
    "import matplotlib.pyplot as plt\n",
    "import datetime\n",
    "\n",
    "class WeatherStation:\n",
    "    def __init__(self, filename):\n",
    "        self.df = pd.read_csv(filename)\n",
    "        self.filename = filename\n",
    "\n",
    "        self.clean()\n",
    "    \n",
    "    def clean(self):\n",
    "        df = self.df[['DATE','PRCP', 'TMAX', 'TMIN']] # local copy\n",
    "\n",
    "        #set class var\n",
    "        self.loc = self.df['LONGITUDE'].iloc[0], self.df['LATITUDE'].iloc[0]  \n",
    "        self.name = self.df['STATION'].iloc[0]\n",
    "        self.elevation = self.df['ELEVATION'].iloc[0]\n",
    "\n",
    "        #convert date string to datetime object\n",
    "        date = pd.to_datetime(df['DATE'])\n",
    "        df = df.drop('DATE', axis=1)\n",
    "        df.loc[:,'DATE'] = date\n",
    "\n",
    "        #conversion to C\n",
    "        df.loc[:,'TMAX'] = df['TMAX']/10\n",
    "        df.loc[:,'TMIN'] = df['TMIN']/10\n",
    "        \n",
    "        #update df with clean version where we remove NaN value\n",
    "        self.df = df.dropna()\n",
    "        \n",
    "    def extract(self,day):\n",
    "        return self.df[self.df['DATE']==day]\n",
    "        \n"
   ]
  },
  {
   "cell_type": "code",
   "execution_count": 3,
   "id": "2ce07e39-6940-45b5-9ae8-2c91145aa954",
   "metadata": {},
   "outputs": [
    {
     "data": {
      "text/html": [
       "<div>\n",
       "<style scoped>\n",
       "    .dataframe tbody tr th:only-of-type {\n",
       "        vertical-align: middle;\n",
       "    }\n",
       "\n",
       "    .dataframe tbody tr th {\n",
       "        vertical-align: top;\n",
       "    }\n",
       "\n",
       "    .dataframe thead th {\n",
       "        text-align: right;\n",
       "    }\n",
       "</style>\n",
       "<table border=\"1\" class=\"dataframe\">\n",
       "  <thead>\n",
       "    <tr style=\"text-align: right;\">\n",
       "      <th></th>\n",
       "      <th>PRCP</th>\n",
       "      <th>TMAX</th>\n",
       "      <th>TMIN</th>\n",
       "      <th>DATE</th>\n",
       "    </tr>\n",
       "  </thead>\n",
       "  <tbody>\n",
       "    <tr>\n",
       "      <th>1</th>\n",
       "      <td>0.0</td>\n",
       "      <td>19.5</td>\n",
       "      <td>11.3</td>\n",
       "      <td>2008-04-19</td>\n",
       "    </tr>\n",
       "    <tr>\n",
       "      <th>2</th>\n",
       "      <td>2.0</td>\n",
       "      <td>18.2</td>\n",
       "      <td>11.5</td>\n",
       "      <td>2008-04-20</td>\n",
       "    </tr>\n",
       "    <tr>\n",
       "      <th>3</th>\n",
       "      <td>0.0</td>\n",
       "      <td>21.7</td>\n",
       "      <td>9.8</td>\n",
       "      <td>2008-04-21</td>\n",
       "    </tr>\n",
       "    <tr>\n",
       "      <th>4</th>\n",
       "      <td>0.0</td>\n",
       "      <td>21.1</td>\n",
       "      <td>11.2</td>\n",
       "      <td>2008-04-22</td>\n",
       "    </tr>\n",
       "    <tr>\n",
       "      <th>5</th>\n",
       "      <td>0.0</td>\n",
       "      <td>22.2</td>\n",
       "      <td>10.3</td>\n",
       "      <td>2008-04-23</td>\n",
       "    </tr>\n",
       "    <tr>\n",
       "      <th>...</th>\n",
       "      <td>...</td>\n",
       "      <td>...</td>\n",
       "      <td>...</td>\n",
       "      <td>...</td>\n",
       "    </tr>\n",
       "    <tr>\n",
       "      <th>5586</th>\n",
       "      <td>0.0</td>\n",
       "      <td>18.5</td>\n",
       "      <td>6.1</td>\n",
       "      <td>2023-12-27</td>\n",
       "    </tr>\n",
       "    <tr>\n",
       "      <th>5587</th>\n",
       "      <td>0.0</td>\n",
       "      <td>15.4</td>\n",
       "      <td>7.5</td>\n",
       "      <td>2023-12-28</td>\n",
       "    </tr>\n",
       "    <tr>\n",
       "      <th>5588</th>\n",
       "      <td>0.0</td>\n",
       "      <td>15.1</td>\n",
       "      <td>7.1</td>\n",
       "      <td>2023-12-29</td>\n",
       "    </tr>\n",
       "    <tr>\n",
       "      <th>5589</th>\n",
       "      <td>0.0</td>\n",
       "      <td>16.7</td>\n",
       "      <td>6.0</td>\n",
       "      <td>2023-12-30</td>\n",
       "    </tr>\n",
       "    <tr>\n",
       "      <th>5590</th>\n",
       "      <td>0.0</td>\n",
       "      <td>18.5</td>\n",
       "      <td>8.2</td>\n",
       "      <td>2023-12-31</td>\n",
       "    </tr>\n",
       "  </tbody>\n",
       "</table>\n",
       "<p>5586 rows × 4 columns</p>\n",
       "</div>"
      ],
      "text/plain": [
       "      PRCP  TMAX  TMIN       DATE\n",
       "1      0.0  19.5  11.3 2008-04-19\n",
       "2      2.0  18.2  11.5 2008-04-20\n",
       "3      0.0  21.7   9.8 2008-04-21\n",
       "4      0.0  21.1  11.2 2008-04-22\n",
       "5      0.0  22.2  10.3 2008-04-23\n",
       "...    ...   ...   ...        ...\n",
       "5586   0.0  18.5   6.1 2023-12-27\n",
       "5587   0.0  15.4   7.5 2023-12-28\n",
       "5588   0.0  15.1   7.1 2023-12-29\n",
       "5589   0.0  16.7   6.0 2023-12-30\n",
       "5590   0.0  18.5   8.2 2023-12-31\n",
       "\n",
       "[5586 rows x 4 columns]"
      ]
     },
     "execution_count": 3,
     "metadata": {},
     "output_type": "execute_result"
    }
   ],
   "source": [
    "bcnWs.df"
   ]
  },
  {
   "cell_type": "code",
   "execution_count": 2,
   "id": "c4198187-f620-4253-a2ca-88844a021fab",
   "metadata": {},
   "outputs": [
    {
     "data": {
      "text/html": [
       "<div>\n",
       "<style scoped>\n",
       "    .dataframe tbody tr th:only-of-type {\n",
       "        vertical-align: middle;\n",
       "    }\n",
       "\n",
       "    .dataframe tbody tr th {\n",
       "        vertical-align: top;\n",
       "    }\n",
       "\n",
       "    .dataframe thead th {\n",
       "        text-align: right;\n",
       "    }\n",
       "</style>\n",
       "<table border=\"1\" class=\"dataframe\">\n",
       "  <thead>\n",
       "    <tr style=\"text-align: right;\">\n",
       "      <th></th>\n",
       "      <th>PRCP</th>\n",
       "      <th>TMAX</th>\n",
       "      <th>TMIN</th>\n",
       "      <th>DATE</th>\n",
       "    </tr>\n",
       "  </thead>\n",
       "  <tbody>\n",
       "    <tr>\n",
       "      <th>5033</th>\n",
       "      <td>15.0</td>\n",
       "      <td>29.1</td>\n",
       "      <td>19.8</td>\n",
       "      <td>2022-06-22</td>\n",
       "    </tr>\n",
       "  </tbody>\n",
       "</table>\n",
       "</div>"
      ],
      "text/plain": [
       "      PRCP  TMAX  TMIN       DATE\n",
       "5033  15.0  29.1  19.8 2022-06-22"
      ]
     },
     "execution_count": 2,
     "metadata": {},
     "output_type": "execute_result"
    }
   ],
   "source": [
    "filename = '/data/IMFSE/PythonCourse/WeatherStation/SPE00156000.csv'\n",
    "bcnWs = WeatherStation(filename)\n",
    "\n",
    "#extart data for one specific day\n",
    "day = pd.to_datetime('2022-6-22')\n",
    "bcnWs.extract(day)"
   ]
  },
  {
   "cell_type": "code",
   "execution_count": 127,
   "id": "57467115-1cfe-4485-8440-e26c8d149760",
   "metadata": {},
   "outputs": [
    {
     "data": {
      "text/plain": [
       "<Axes: xlabel='DATE'>"
      ]
     },
     "execution_count": 127,
     "metadata": {},
     "output_type": "execute_result"
    },
    {
     "data": {
      "image/png": "[encoded data removed]",
      "text/plain": [
       "<Figure size 640x480 with 2 Axes>"
      ]
     },
     "metadata": {},
     "output_type": "display_data"
    }
   ],
   "source": [
    "ax = plt.subplot(111)\n",
    "bcnWs.df.plot(x='DATE',y='PRCP',ax=ax)\n",
    "\n",
    "bx = ax.twinx()\n",
    "bcnWs.df.plot(x='DATE',y='TMAX',ax=bx, c='r', alpha=0.5)\n"
   ]
  },
  {
   "cell_type": "code",
   "execution_count": null,
   "id": "563c2ae1-6a63-4f8b-9d24-8d397256f962",
   "metadata": {},
   "outputs": [],
   "source": []
  }
 ],
 "metadata": {
  "kernelspec": {
   "display_name": "Python 3 (ipykernel)",
   "language": "python",
   "name": "python3"
  },
  "language_info": {
   "codemirror_mode": {
    "name": "ipython",
    "version": 3
   },
   "file_extension": ".py",
   "mimetype": "text/x-python",
   "name": "python",
   "nbconvert_exporter": "python",
   "pygments_lexer": "ipython3",
   "version": "3.11.2"
  }
 },
 "nbformat": 4,
 "nbformat_minor": 5
}
