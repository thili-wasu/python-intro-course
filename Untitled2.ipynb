{
 "cells": [
  {
   "cell_type": "code",
   "execution_count": 1,
   "id": "5d96ad74-4b42-4fb0-8103-805d65253847",
   "metadata": {},
   "outputs": [
    {
     "name": "stdout",
     "output_type": "stream",
     "text": [
      "Original DataFrame:\n",
      "   old_name1  old_name2  old_name3\n",
      "0          1          4          7\n",
      "1          2          5          8\n",
      "2          3          6          9\n",
      "\n",
      "DataFrame with Renamed Columns:\n",
      "   new_name1  new_name2  new_name3\n",
      "0          1          4          7\n",
      "1          2          5          8\n",
      "2          3          6          9\n"
     ]
    }
   ],
   "source": [
    "import pandas as pd\n",
    "\n",
    "# Sample DataFrame\n",
    "data = {\n",
    "    'old_name1': [1, 2, 3],\n",
    "    'old_name2': [4, 5, 6],\n",
    "    'old_name3': [7, 8, 9]\n",
    "}\n",
    "df = pd.DataFrame(data)\n",
    "\n",
    "# Print original DataFrame\n",
    "print(\"Original DataFrame:\")\n",
    "print(df)\n",
    "\n",
    "# Dictionary mapping old column names to new column names\n",
    "new_column_names = {\n",
    "    'old_name1': 'new_name1',\n",
    "    'old_name2': 'new_name2',\n",
    "    'old_name3': 'new_name3'\n",
    "}\n",
    "\n",
    "# Rename columns\n",
    "df.rename(columns=new_column_names, inplace=True)\n",
    "\n",
    "# Print DataFrame with renamed columns\n",
    "print(\"\\nDataFrame with Renamed Columns:\")\n",
    "print(df)"
   ]
  },
  {
   "cell_type": "code",
   "execution_count": null,
   "id": "8c16e15b-1f0c-456b-97ab-83bd1b5ddfaf",
   "metadata": {},
   "outputs": [],
   "source": []
  }
 ],
 "metadata": {
  "kernelspec": {
   "display_name": "Python 3 (ipykernel)",
   "language": "python",
   "name": "python3"
  },
  "language_info": {
   "codemirror_mode": {
    "name": "ipython",
    "version": 3
   },
   "file_extension": ".py",
   "mimetype": "text/x-python",
   "name": "python",
   "nbconvert_exporter": "python",
   "pygments_lexer": "ipython3",
   "version": "3.11.2"
  }
 },
 "nbformat": 4,
 "nbformat_minor": 5
}
